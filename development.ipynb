{
 "cells": [
  {
   "cell_type": "code",
   "execution_count": 2,
   "id": "8d04976a-241d-41f8-8b66-77ed63e9235c",
   "metadata": {},
   "outputs": [
    {
     "name": "stdout",
     "output_type": "stream",
     "text": [
      "Collecting gspread\n",
      "  Downloading gspread-4.0.0-py3-none-any.whl (29 kB)\n",
      "Collecting google-auth-oauthlib>=0.4.1\n",
      "  Downloading google_auth_oauthlib-0.4.5-py2.py3-none-any.whl (18 kB)\n",
      "Collecting google-auth>=1.12.0\n",
      "  Downloading google_auth-1.34.0-py2.py3-none-any.whl (152 kB)\n",
      "\u001b[K     |████████████████████████████████| 152 kB 3.1 MB/s eta 0:00:01\n",
      "\u001b[?25hCollecting rsa<5,>=3.1.4\n",
      "  Downloading rsa-4.7.2-py3-none-any.whl (34 kB)\n",
      "Requirement already satisfied: setuptools>=40.3.0 in /opt/conda/lib/python3.9/site-packages (from google-auth>=1.12.0->gspread) (49.6.0.post20210108)\n",
      "Requirement already satisfied: six>=1.9.0 in /opt/conda/lib/python3.9/site-packages (from google-auth>=1.12.0->gspread) (1.16.0)\n",
      "Collecting pyasn1-modules>=0.2.1\n",
      "  Downloading pyasn1_modules-0.2.8-py2.py3-none-any.whl (155 kB)\n",
      "\u001b[K     |████████████████████████████████| 155 kB 9.8 MB/s eta 0:00:01\n",
      "\u001b[?25hRequirement already satisfied: cachetools<5.0,>=2.0.0 in /opt/conda/lib/python3.9/site-packages (from google-auth>=1.12.0->gspread) (4.2.2)\n",
      "Collecting requests-oauthlib>=0.7.0\n",
      "  Downloading requests_oauthlib-1.3.0-py2.py3-none-any.whl (23 kB)\n",
      "Collecting pyasn1<0.5.0,>=0.4.6\n",
      "  Downloading pyasn1-0.4.8-py2.py3-none-any.whl (77 kB)\n",
      "\u001b[K     |████████████████████████████████| 77 kB 3.6 MB/s  eta 0:00:01\n",
      "\u001b[?25hRequirement already satisfied: requests>=2.0.0 in /opt/conda/lib/python3.9/site-packages (from requests-oauthlib>=0.7.0->google-auth-oauthlib>=0.4.1->gspread) (2.26.0)\n",
      "Requirement already satisfied: oauthlib>=3.0.0 in /opt/conda/lib/python3.9/site-packages (from requests-oauthlib>=0.7.0->google-auth-oauthlib>=0.4.1->gspread) (3.1.1)\n",
      "Requirement already satisfied: charset-normalizer~=2.0.0 in /opt/conda/lib/python3.9/site-packages (from requests>=2.0.0->requests-oauthlib>=0.7.0->google-auth-oauthlib>=0.4.1->gspread) (2.0.0)\n",
      "Requirement already satisfied: certifi>=2017.4.17 in /opt/conda/lib/python3.9/site-packages (from requests>=2.0.0->requests-oauthlib>=0.7.0->google-auth-oauthlib>=0.4.1->gspread) (2021.5.30)\n",
      "Requirement already satisfied: idna<4,>=2.5 in /opt/conda/lib/python3.9/site-packages (from requests>=2.0.0->requests-oauthlib>=0.7.0->google-auth-oauthlib>=0.4.1->gspread) (3.1)\n",
      "Requirement already satisfied: urllib3<1.27,>=1.21.1 in /opt/conda/lib/python3.9/site-packages (from requests>=2.0.0->requests-oauthlib>=0.7.0->google-auth-oauthlib>=0.4.1->gspread) (1.26.6)\n",
      "Installing collected packages: pyasn1, rsa, pyasn1-modules, requests-oauthlib, google-auth, google-auth-oauthlib, gspread\n",
      "Successfully installed google-auth-1.34.0 google-auth-oauthlib-0.4.5 gspread-4.0.0 pyasn1-0.4.8 pyasn1-modules-0.2.8 requests-oauthlib-1.3.0 rsa-4.7.2\n"
     ]
    }
   ],
   "source": [
    "!pip install gspread"
   ]
  },
  {
   "cell_type": "code",
   "execution_count": 4,
   "id": "e8d94191-fb3a-499d-9972-e7b99d84e397",
   "metadata": {},
   "outputs": [
    {
     "name": "stdout",
     "output_type": "stream",
     "text": [
      "Collecting gspread_pandas\n",
      "  Downloading gspread_pandas-2.3.0-py2.py3-none-any.whl (26 kB)\n",
      "Requirement already satisfied: gspread>=3.0.0 in /opt/conda/lib/python3.9/site-packages (from gspread_pandas) (4.0.0)\n",
      "Requirement already satisfied: google-auth-oauthlib in /opt/conda/lib/python3.9/site-packages (from gspread_pandas) (0.4.5)\n",
      "Requirement already satisfied: decorator in /opt/conda/lib/python3.9/site-packages (from gspread_pandas) (5.0.9)\n",
      "Requirement already satisfied: google-auth in /opt/conda/lib/python3.9/site-packages (from gspread_pandas) (1.34.0)\n",
      "Requirement already satisfied: six in /opt/conda/lib/python3.9/site-packages (from gspread_pandas) (1.16.0)\n",
      "Requirement already satisfied: pandas>=0.20.0 in /opt/conda/lib/python3.9/site-packages (from gspread_pandas) (1.3.1)\n",
      "Requirement already satisfied: rsa<5,>=3.1.4 in /opt/conda/lib/python3.9/site-packages (from google-auth->gspread_pandas) (4.7.2)\n",
      "Requirement already satisfied: cachetools<5.0,>=2.0.0 in /opt/conda/lib/python3.9/site-packages (from google-auth->gspread_pandas) (4.2.2)\n",
      "Requirement already satisfied: pyasn1-modules>=0.2.1 in /opt/conda/lib/python3.9/site-packages (from google-auth->gspread_pandas) (0.2.8)\n",
      "Requirement already satisfied: setuptools>=40.3.0 in /opt/conda/lib/python3.9/site-packages (from google-auth->gspread_pandas) (49.6.0.post20210108)\n",
      "Requirement already satisfied: requests-oauthlib>=0.7.0 in /opt/conda/lib/python3.9/site-packages (from google-auth-oauthlib->gspread_pandas) (1.3.0)\n",
      "Requirement already satisfied: numpy>=1.17.3 in /opt/conda/lib/python3.9/site-packages (from pandas>=0.20.0->gspread_pandas) (1.21.1)\n",
      "Requirement already satisfied: python-dateutil>=2.7.3 in /opt/conda/lib/python3.9/site-packages (from pandas>=0.20.0->gspread_pandas) (2.8.2)\n",
      "Requirement already satisfied: pytz>=2017.3 in /opt/conda/lib/python3.9/site-packages (from pandas>=0.20.0->gspread_pandas) (2021.1)\n",
      "Requirement already satisfied: pyasn1<0.5.0,>=0.4.6 in /opt/conda/lib/python3.9/site-packages (from pyasn1-modules>=0.2.1->google-auth->gspread_pandas) (0.4.8)\n",
      "Requirement already satisfied: requests>=2.0.0 in /opt/conda/lib/python3.9/site-packages (from requests-oauthlib>=0.7.0->google-auth-oauthlib->gspread_pandas) (2.26.0)\n",
      "Requirement already satisfied: oauthlib>=3.0.0 in /opt/conda/lib/python3.9/site-packages (from requests-oauthlib>=0.7.0->google-auth-oauthlib->gspread_pandas) (3.1.1)\n",
      "Requirement already satisfied: idna<4,>=2.5 in /opt/conda/lib/python3.9/site-packages (from requests>=2.0.0->requests-oauthlib>=0.7.0->google-auth-oauthlib->gspread_pandas) (3.1)\n",
      "Requirement already satisfied: certifi>=2017.4.17 in /opt/conda/lib/python3.9/site-packages (from requests>=2.0.0->requests-oauthlib>=0.7.0->google-auth-oauthlib->gspread_pandas) (2021.5.30)\n",
      "Requirement already satisfied: urllib3<1.27,>=1.21.1 in /opt/conda/lib/python3.9/site-packages (from requests>=2.0.0->requests-oauthlib>=0.7.0->google-auth-oauthlib->gspread_pandas) (1.26.6)\n",
      "Requirement already satisfied: charset-normalizer~=2.0.0 in /opt/conda/lib/python3.9/site-packages (from requests>=2.0.0->requests-oauthlib>=0.7.0->google-auth-oauthlib->gspread_pandas) (2.0.0)\n",
      "Installing collected packages: gspread-pandas\n",
      "Successfully installed gspread-pandas-2.3.0\n"
     ]
    }
   ],
   "source": [
    "!pip install gspread_pandas"
   ]
  },
  {
   "cell_type": "code",
   "execution_count": 6,
   "id": "ba4a8de0-5988-4042-b552-c3af45f56731",
   "metadata": {},
   "outputs": [
    {
     "name": "stdout",
     "output_type": "stream",
     "text": [
      "Collecting gsheetsdb\n",
      "  Downloading gsheetsdb-0.1.13-py2.py3-none-any.whl (20 kB)\n",
      "Collecting moz-sql-parser\n",
      "  Downloading moz-sql-parser-4.40.21126.tar.gz (67 kB)\n",
      "\u001b[K     |████████████████████████████████| 67 kB 2.0 MB/s eta 0:00:011\n",
      "\u001b[?25hRequirement already satisfied: six in /opt/conda/lib/python3.9/site-packages (from gsheetsdb) (1.16.0)\n",
      "Requirement already satisfied: google-auth in /opt/conda/lib/python3.9/site-packages (from gsheetsdb) (1.34.0)\n",
      "Requirement already satisfied: requests>=2.20.0 in /opt/conda/lib/python3.9/site-packages (from gsheetsdb) (2.26.0)\n",
      "Requirement already satisfied: certifi>=2017.4.17 in /opt/conda/lib/python3.9/site-packages (from requests>=2.20.0->gsheetsdb) (2021.5.30)\n",
      "Requirement already satisfied: idna<4,>=2.5 in /opt/conda/lib/python3.9/site-packages (from requests>=2.20.0->gsheetsdb) (3.1)\n",
      "Requirement already satisfied: charset-normalizer~=2.0.0 in /opt/conda/lib/python3.9/site-packages (from requests>=2.20.0->gsheetsdb) (2.0.0)\n",
      "Requirement already satisfied: urllib3<1.27,>=1.21.1 in /opt/conda/lib/python3.9/site-packages (from requests>=2.20.0->gsheetsdb) (1.26.6)\n",
      "Requirement already satisfied: setuptools>=40.3.0 in /opt/conda/lib/python3.9/site-packages (from google-auth->gsheetsdb) (49.6.0.post20210108)\n",
      "Requirement already satisfied: pyasn1-modules>=0.2.1 in /opt/conda/lib/python3.9/site-packages (from google-auth->gsheetsdb) (0.2.8)\n",
      "Requirement already satisfied: cachetools<5.0,>=2.0.0 in /opt/conda/lib/python3.9/site-packages (from google-auth->gsheetsdb) (4.2.2)\n",
      "Requirement already satisfied: rsa<5,>=3.1.4 in /opt/conda/lib/python3.9/site-packages (from google-auth->gsheetsdb) (4.7.2)\n",
      "Requirement already satisfied: pyasn1<0.5.0,>=0.4.6 in /opt/conda/lib/python3.9/site-packages (from pyasn1-modules>=0.2.1->google-auth->gsheetsdb) (0.4.8)\n",
      "Collecting mo-dots==4.22.21108\n",
      "  Downloading mo-dots-4.22.21108.tar.gz (17 kB)\n",
      "Collecting mo-future==3.147.20327\n",
      "  Downloading mo-future-3.147.20327.tar.gz (4.3 kB)\n",
      "Collecting mo-logs==4.23.21108\n",
      "  Downloading mo-logs-4.23.21108.tar.gz (37 kB)\n",
      "Collecting mo-imports==3.149.20327\n",
      "  Downloading mo-imports-3.149.20327.tar.gz (5.4 kB)\n",
      "Collecting mo-kwargs==4.22.21108\n",
      "  Downloading mo-kwargs-4.22.21108.tar.gz (6.5 kB)\n",
      "Building wheels for collected packages: moz-sql-parser, mo-dots, mo-future, mo-imports, mo-logs, mo-kwargs\n",
      "  Building wheel for moz-sql-parser (setup.py) ... \u001b[?25ldone\n",
      "\u001b[?25h  Created wheel for moz-sql-parser: filename=moz_sql_parser-4.40.21126-py3-none-any.whl size=75208 sha256=e7fdb6e63a343f795069a02751b4c9ad22cf3c639eb7f70e06e6ba4a75136914\n",
      "  Stored in directory: /home/jovyan/.cache/pip/wheels/13/00/86/b49607a5b82fd02e7eea1558f3dbb1f8dc02690de926f18de5\n",
      "  Building wheel for mo-dots (setup.py) ... \u001b[?25ldone\n",
      "\u001b[?25h  Created wheel for mo-dots: filename=mo_dots-4.22.21108-py3-none-any.whl size=19819 sha256=b16e685d10a70c8a9afe7d6460e516bc5423e733413219f1fa5147894d52e776\n",
      "  Stored in directory: /home/jovyan/.cache/pip/wheels/93/b8/1c/8e71a4e6464944525aea97290a19f26ade5109c4be1cbaa29c\n",
      "  Building wheel for mo-future (setup.py) ... \u001b[?25ldone\n",
      "\u001b[?25h  Created wheel for mo-future: filename=mo_future-3.147.20327-py3-none-any.whl size=4516 sha256=710308ee42bdd73b0e9a0bedf8d465b3afe838c1ffd140e5a21f2ca66738ae02\n",
      "  Stored in directory: /home/jovyan/.cache/pip/wheels/6b/0a/2b/d053b1795c67d7e9adee25508b7ae65087705834cccdb5a94f\n",
      "  Building wheel for mo-imports (setup.py) ... \u001b[?25ldone\n",
      "\u001b[?25h  Created wheel for mo-imports: filename=mo_imports-3.149.20327-py3-none-any.whl size=5089 sha256=374caea538adea14290a82a4937571ac9a540182867503e923563144a86d2bc4\n",
      "  Stored in directory: /home/jovyan/.cache/pip/wheels/6a/ee/e0/ae4225a6dcc04e15e89c14124d279a1948cd8d9110da472653\n",
      "  Building wheel for mo-logs (setup.py) ... \u001b[?25ldone\n",
      "\u001b[?25h  Created wheel for mo-logs: filename=mo_logs-4.23.21108-py3-none-any.whl size=39470 sha256=105722997e67362995cef8a81e82bf5d25d285095ae631210d97c48aca43d54b\n",
      "  Stored in directory: /home/jovyan/.cache/pip/wheels/cc/95/1d/2c2409f9400a44cc71ccbd5c4845ecf860af19720ac556ecdd\n",
      "  Building wheel for mo-kwargs (setup.py) ... \u001b[?25ldone\n",
      "\u001b[?25h  Created wheel for mo-kwargs: filename=mo_kwargs-4.22.21108-py3-none-any.whl size=6730 sha256=1ff745f6402eef782e8901d343732e1b8e50c7145adb8409df5f60b2af166c55\n",
      "  Stored in directory: /home/jovyan/.cache/pip/wheels/ef/5d/7d/2ebd4ac8e374a9e3600217b168c6d5f91e8509f31d4e42837a\n",
      "Successfully built moz-sql-parser mo-dots mo-future mo-imports mo-logs mo-kwargs\n",
      "Installing collected packages: mo-future, mo-imports, mo-dots, mo-kwargs, mo-logs, moz-sql-parser, gsheetsdb\n",
      "Successfully installed gsheetsdb-0.1.13 mo-dots-4.22.21108 mo-future-3.147.20327 mo-imports-3.149.20327 mo-kwargs-4.22.21108 mo-logs-4.23.21108 moz-sql-parser-4.40.21126\n"
     ]
    }
   ],
   "source": [
    "!pip install gsheetsdb"
   ]
  },
  {
   "cell_type": "code",
   "execution_count": 1,
   "id": "0c90a274-6744-4a2b-a34e-530f2bfe335c",
   "metadata": {},
   "outputs": [
    {
     "name": "stderr",
     "output_type": "stream",
     "text": [
      "2021-08-10 11:00:51.490 INFO    numexpr.utils: NumExpr defaulting to 8 threads.\n"
     ]
    }
   ],
   "source": [
    "import streamlit as st\n",
    "from google.oauth2 import service_account\n",
    "\n",
    "scopes=[\n",
    "    \"https://www.googleapis.com/auth/spreadsheets\",\n",
    "]\n",
    "\n",
    "# Create a connection object.\n",
    "credentials = service_account.Credentials.from_service_account_info(\n",
    "    st.secrets[\"gcp_service_account\"],\n",
    "    scopes=scopes,\n",
    ")"
   ]
  },
  {
   "cell_type": "code",
   "execution_count": 2,
   "id": "3fc1e153-9685-418c-a043-5898219bd5c8",
   "metadata": {},
   "outputs": [
    {
     "name": "stdout",
     "output_type": "stream",
     "text": [
      "Your credentials don't have Drive API access, ignoring drive specific functionality (Note this includes searching spreadsheets by name)\n"
     ]
    }
   ],
   "source": [
    "from gspread_pandas import Spread, Client\n",
    "\n",
    "client = Client(scope=scopes, creds=credentials)\n",
    "spread = Spread(st.secrets[\"private_gsheets_url\"], client=client)"
   ]
  },
  {
   "cell_type": "code",
   "execution_count": 3,
   "id": "7f9a1024-91ee-47bc-a966-40476c6f471a",
   "metadata": {},
   "outputs": [
    {
     "data": {
      "text/html": [
       "<div>\n",
       "<style scoped>\n",
       "    .dataframe tbody tr th:only-of-type {\n",
       "        vertical-align: middle;\n",
       "    }\n",
       "\n",
       "    .dataframe tbody tr th {\n",
       "        vertical-align: top;\n",
       "    }\n",
       "\n",
       "    .dataframe thead th {\n",
       "        text-align: right;\n",
       "    }\n",
       "</style>\n",
       "<table border=\"1\" class=\"dataframe\">\n",
       "  <thead>\n",
       "    <tr style=\"text-align: right;\">\n",
       "      <th></th>\n",
       "      <th>0</th>\n",
       "      <th>1</th>\n",
       "    </tr>\n",
       "  </thead>\n",
       "  <tbody>\n",
       "    <tr>\n",
       "      <th>0</th>\n",
       "      <td>A</td>\n",
       "      <td>B</td>\n",
       "    </tr>\n",
       "    <tr>\n",
       "      <th>1</th>\n",
       "      <td>1</td>\n",
       "      <td>a</td>\n",
       "    </tr>\n",
       "    <tr>\n",
       "      <th>2</th>\n",
       "      <td>2</td>\n",
       "      <td>b</td>\n",
       "    </tr>\n",
       "    <tr>\n",
       "      <th>3</th>\n",
       "      <td>3</td>\n",
       "      <td>c</td>\n",
       "    </tr>\n",
       "  </tbody>\n",
       "</table>\n",
       "</div>"
      ],
      "text/plain": [
       "   0  1\n",
       "0  A  B\n",
       "1  1  a\n",
       "2  2  b\n",
       "3  3  c"
      ]
     },
     "execution_count": 3,
     "metadata": {},
     "output_type": "execute_result"
    }
   ],
   "source": [
    "test_df = spread.sheet_to_df(header_rows=None, index=None)\n",
    "\n",
    "test_df"
   ]
  },
  {
   "cell_type": "code",
   "execution_count": 42,
   "id": "084e67b4-dcd1-4b95-b970-0143b542befc",
   "metadata": {},
   "outputs": [
    {
     "data": {
      "text/html": [
       "<div>\n",
       "<style scoped>\n",
       "    .dataframe tbody tr th:only-of-type {\n",
       "        vertical-align: middle;\n",
       "    }\n",
       "\n",
       "    .dataframe tbody tr th {\n",
       "        vertical-align: top;\n",
       "    }\n",
       "\n",
       "    .dataframe thead th {\n",
       "        text-align: right;\n",
       "    }\n",
       "</style>\n",
       "<table border=\"1\" class=\"dataframe\">\n",
       "  <thead>\n",
       "    <tr style=\"text-align: right;\">\n",
       "      <th></th>\n",
       "      <th>A</th>\n",
       "      <th>B</th>\n",
       "    </tr>\n",
       "  </thead>\n",
       "  <tbody>\n",
       "    <tr>\n",
       "      <th>0</th>\n",
       "      <td>1</td>\n",
       "      <td>a</td>\n",
       "    </tr>\n",
       "    <tr>\n",
       "      <th>1</th>\n",
       "      <td>2</td>\n",
       "      <td>b</td>\n",
       "    </tr>\n",
       "    <tr>\n",
       "      <th>2</th>\n",
       "      <td>3</td>\n",
       "      <td>c</td>\n",
       "    </tr>\n",
       "  </tbody>\n",
       "</table>\n",
       "</div>"
      ],
      "text/plain": [
       "   A  B\n",
       "0  1  a\n",
       "1  2  b\n",
       "2  3  c"
      ]
     },
     "execution_count": 42,
     "metadata": {},
     "output_type": "execute_result"
    }
   ],
   "source": [
    "df = pd.DataFrame({'A':[1,2,3], 'B':['a', 'b', 'c']})\n",
    "df"
   ]
  },
  {
   "cell_type": "code",
   "execution_count": 44,
   "id": "252886c1-43c5-4859-a7f6-ea59167ca8d6",
   "metadata": {},
   "outputs": [],
   "source": [
    "spread.df_to_sheet(df, index=False)"
   ]
  },
  {
   "cell_type": "code",
   "execution_count": null,
   "id": "6d4b85d8-534b-407b-a58f-3a1577d5590d",
   "metadata": {},
   "outputs": [],
   "source": []
  },
  {
   "cell_type": "markdown",
   "id": "bcda1f7d-3511-49bd-b41a-8915ce23c0f9",
   "metadata": {},
   "source": [
    "# Data merge"
   ]
  },
  {
   "cell_type": "code",
   "execution_count": 147,
   "id": "1c1cca9f-8520-4a39-baf5-9a3abf0ed268",
   "metadata": {},
   "outputs": [],
   "source": [
    "import pandas as pd\n",
    "import streamlit as st\n",
    "from google.oauth2 import service_account\n",
    "from gspread_pandas import Spread, Client\n",
    "\n",
    "class DataMerger():\n",
    "    def __init__(self):\n",
    "        scopes=[\n",
    "            \"https://www.googleapis.com/auth/spreadsheets\",\n",
    "        ]\n",
    "\n",
    "        credentials = service_account.Credentials.from_service_account_info(\n",
    "            st.secrets[\"gcp_service_account\"],\n",
    "            scopes=scopes,\n",
    "        )\n",
    "        \n",
    "        client = Client(scope=scopes, creds=credentials)\n",
    "        self.spread = Spread(st.secrets[\"private_gsheets_url\"], client=client)\n",
    "        self.columns = ['Transaction date', 'Description', 'Amount', 'Booked balance', 'Account', 'User']\n",
    "        \n",
    "    def cast(self, df):\n",
    "        df[self.columns[0]] = pd.to_datetime(df[self.columns[0]], format='%Y-%m-%d').astype(str)\n",
    "        df[self.columns[1]] = df[self.columns[1]].astype(str)\n",
    "        df[self.columns[2:4]] = df[self.columns[2:4]].astype(float)\n",
    "        df[self.columns[4:]] = df[self.columns[4:]].astype(str)\n",
    "        return df\n",
    "    \n",
    "    def merge(self, tmp_df):\n",
    "        master_df = self.spread.sheet_to_df(header_rows=1, index=None)\n",
    "        master_df = self.cast(master_df)\n",
    "        merged_df = pd.concat([master_df, tmp_df], ignore_index=True)\n",
    "        merged_df = merged_df.drop_duplicates()\n",
    "        merged_df = merged_df.sort_values(by=self.columns[0])\n",
    "        self.spread.df_to_sheet(merged_df, index=False)\n",
    "        \n",
    "    def swedbank(self, path, name):\n",
    "        tmp_df = pd.read_excel(path, header=7)\n",
    "        tmp_df = tmp_df[self.columns[:4]]\n",
    "        tmp_df[self.columns[4]] = 'Swedbank'\n",
    "        tmp_df[self.columns[5]] = name\n",
    "        tmp_df = self.cast(tmp_df)\n",
    "        self.merge(tmp_df)\n",
    "\n",
    "    def prestia(self, path, name):\n",
    "        tmp_df = pd.read_csv(path, header=None, encoding='Shift-JIS')\n",
    "        tmp_df = tmp_df.iloc[:,[0,2]]\n",
    "        tmp_df.columns = [col for col in self.columns if col == 'Transaction date' or col == 'Amount']\n",
    "        tmp_df[self.columns[0]] = tmp_df[self.columns[0]].str.replace('/', '-')\n",
    "        tmp_df[self.columns[2]] = tmp_df[self.columns[2]].str.replace('SEK', '')\n",
    "        tmp_df[self.columns[2]] = tmp_df[self.columns[2]].str.replace(',', '')\n",
    "        tmp_df[self.columns[1]] = 'Not available'\n",
    "        tmp_df[self.columns[3]] = 0\n",
    "        tmp_df[self.columns[4]] = 'Prestia'\n",
    "        tmp_df[self.columns[5]] = name\n",
    "        tmp_df = self.cast(tmp_df)\n",
    "        self.merge(tmp_df)\n",
    "        \n",
    "    def skandia(self, path, name):\n",
    "        tmp_df = pd.read_excel(path, header=3)\n",
    "        tmp_df.columns = self.columns[:4]\n",
    "        tmp_df[self.columns[4]] = 'Skandia'\n",
    "        tmp_df[self.columns[5]] = name\n",
    "        tmp_df = self.cast(tmp_df)\n",
    "        self.merge(tmp_df)\n",
    "        \n",
    "    def sony(self, path, name):\n",
    "        tmp_df = pd.read_excel(path, header=0)\n",
    "        tmp_df[['お預け入れ額', 'お引き出し額']] = tmp_df[['お預け入れ額', 'お引き出し額']].astype(float)\n",
    "        tmp_df[['お預け入れ額', 'お引き出し額']] = tmp_df[['お預け入れ額', 'お引き出し額']].fillna(0)\n",
    "        tmp_df = tmp_df.rename(columns={k:v for k,v in zip(['お取り引き日', '摘要', 'お預け入れ額', '差し引き残高'], self.columns[:4])})\n",
    "        tmp_df[self.columns[0]] = pd.to_datetime(tmp_df[self.columns[0]], unit='D', origin='1899-12-30')\n",
    "        tmp_df[self.columns[2]] = tmp_df[self.columns[2]] - tmp_df['お引き出し額']\n",
    "        tmp_df[self.columns[4]] = 'Sony'\n",
    "        tmp_df[self.columns[5]] = name\n",
    "        tmp_df = tmp_df[self.columns]\n",
    "        tmp_df = self.cast(tmp_df)\n",
    "        self.merge(tmp_df)"
   ]
  },
  {
   "cell_type": "code",
   "execution_count": 149,
   "id": "126b4e73-a935-4870-b833-163596ba0b94",
   "metadata": {},
   "outputs": [
    {
     "name": "stdout",
     "output_type": "stream",
     "text": [
      "Your credentials don't have Drive API access, ignoring drive specific functionality (Note this includes searching spreadsheets by name)\n"
     ]
    }
   ],
   "source": [
    "dm = DataMerger()\n",
    "\n",
    "dm.swedbank('./data/Swedbank_Transactions.xlsx', 'susumu')"
   ]
  },
  {
   "cell_type": "code",
   "execution_count": 150,
   "id": "1555781c-6f27-4dba-9e9c-2549ce79b403",
   "metadata": {},
   "outputs": [],
   "source": [
    "dm.prestia('./data/ACCT_252 (1).csv', 'susumu')"
   ]
  },
  {
   "cell_type": "code",
   "execution_count": 151,
   "id": "12fc3392-24ad-4648-bb90-65efb9a49301",
   "metadata": {},
   "outputs": [],
   "source": [
    "dm.skandia('./data/9159-916.791-5_2021-04-01-2021-06-21.xlsx', 'susumu')"
   ]
  },
  {
   "cell_type": "code",
   "execution_count": 152,
   "id": "428e67dc-1678-4515-abc9-8d3fdc3ee15b",
   "metadata": {},
   "outputs": [],
   "source": [
    "dm.sony('./data/YenFutsuRireki-2019-2021-2-28.xlsx', 'hiromi')"
   ]
  },
  {
   "cell_type": "code",
   "execution_count": null,
   "id": "7bc02dbb-c46b-4919-a925-a9eb315f54fa",
   "metadata": {},
   "outputs": [],
   "source": []
  }
 ],
 "metadata": {
  "kernelspec": {
   "display_name": "Python 3 (ipykernel)",
   "language": "python",
   "name": "python3"
  },
  "language_info": {
   "codemirror_mode": {
    "name": "ipython",
    "version": 3
   },
   "file_extension": ".py",
   "mimetype": "text/x-python",
   "name": "python",
   "nbconvert_exporter": "python",
   "pygments_lexer": "ipython3",
   "version": "3.9.6"
  }
 },
 "nbformat": 4,
 "nbformat_minor": 5
}
